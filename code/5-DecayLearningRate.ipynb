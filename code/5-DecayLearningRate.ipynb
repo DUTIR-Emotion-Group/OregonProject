{
 "cells": [
  {
   "cell_type": "markdown",
   "metadata": {
    "heading_collapsed": true
   },
   "source": [
    "## 导入数据"
   ]
  },
  {
   "cell_type": "code",
   "execution_count": 1,
   "metadata": {
    "hidden": true
   },
   "outputs": [
    {
     "name": "stderr",
     "output_type": "stream",
     "text": [
      "/home/dutir923/wujiaming/anaconda3/envs/tf2/lib/python3.6/site-packages/smart_open/ssh.py:34: UserWarning: paramiko missing, opening SSH/SCP/SFTP paths will be disabled.  `pip install paramiko` to suppress\n",
      "  warnings.warn('paramiko missing, opening SSH/SCP/SFTP paths will be disabled.  `pip install paramiko` to suppress')\n"
     ]
    }
   ],
   "source": [
    "import tensorflow as tf\n",
    "import os\n",
    "import matplotlib.pyplot as plt\n",
    "from load_data import *\n",
    "\n",
    "\n",
    "os.environ['CUDA_VISIBLE_DEVICES'] = '0' #使用 GPU 0\n",
    "def use_gpu_polite(using_rate=0.6):\n",
    "    config = tf.ConfigProto()\n",
    "    config.gpu_options.allow_growth = True\n",
    "    config.gpu_options.per_process_gpu_memory_fraction = using_rate\n",
    "    return config"
   ]
  },
  {
   "cell_type": "code",
   "execution_count": 2,
   "metadata": {
    "hidden": true
   },
   "outputs": [
    {
     "name": "stdout",
     "output_type": "stream",
     "text": [
      "Load pickle data from ../data/imdb_data_3col.pkl\n",
      "Original 134957 words in vocabulary.\n",
      "After truncated low frequent word:\n",
      "words num: 40000/134957; words freq: 0.981\n",
      "Words exit in w2v file: 39210/40004, rate: 98.015198%\n",
      "Shape of weight matrix: (40006, 50)\n",
      "Train data shape: (25000, 500) label length: 25000\n",
      "Test data shape: (25000, 500) label length: 25000\n",
      "dict_keys(['data', 'data_len', 'label'])\n"
     ]
    }
   ],
   "source": [
    "# 导入数据，train data 是一个字典， ebd embdding 是词向量矩阵，作为embedding层的初始参数\n",
    "train_data, test_data, ebd_weights = load_imdb_data()\n",
    "print(train_data.keys())"
   ]
  },
  {
   "cell_type": "markdown",
   "metadata": {
    "heading_collapsed": true
   },
   "source": [
    "## 两种指数递减的学习率"
   ]
  },
  {
   "cell_type": "code",
   "execution_count": 3,
   "metadata": {
    "hidden": true,
    "scrolled": true
   },
   "outputs": [
    {
     "data": {
      "image/png": "[encoded data removed]",
      "text/plain": [
       "<Figure size 432x288 with 1 Axes>"
      ]
     },
     "metadata": {
      "needs_background": "light"
     },
     "output_type": "display_data"
    }
   ],
   "source": [
    "learning_rate = 0.1  # 初始学习率\n",
    "decay_steps = 10    # 递减步数\n",
    "decay_rate = 0.9    # 递减率\n",
    "global_step = tf.Variable(0, trainable=False, dtype=tf.int32)\n",
    "global_step_op = tf.assign(global_step, global_step+1)\n",
    "\n",
    "# exp_decay_lr = learning_rate * decay_rate ^ (global_step / decay_step)\n",
    "exp_decay = tf.train.exponential_decay(learning_rate, global_step, decay_steps, \n",
    "                                       decay_rate, staircase=False)\n",
    "staire_exp_decay = tf.train.exponential_decay(learning_rate, global_step, decay_steps, \n",
    "                                       decay_rate, staircase=True)\n",
    "\n",
    "# nature_exp_decay_lr = learning_rate * exp(-decay_rate * global_step)\n",
    "nature_exp_decay = tf.train.natural_exp_decay(learning_rate, global_step, decay_steps, \n",
    "                                              decay_rate, staircase=False)\n",
    "staire_nature_exp_decay = tf.train.natural_exp_decay(learning_rate, global_step, decay_steps, \n",
    "                                              decay_rate, staircase=True)\n",
    "\n",
    "step_max = 100\n",
    "elr_lst = []\n",
    "selr_lst = []\n",
    "nelr_lst = []\n",
    "snelr_lst = []\n",
    "\n",
    "config = use_gpu_polite()\n",
    "with tf.Session(config=config) as sess:\n",
    "    sess.run(tf.global_variables_initializer())\n",
    "    step_now = sess.run(global_step)\n",
    "    while step_now < step_max:\n",
    "        elr, selr, nelr, snelr = sess.run([exp_decay, staire_exp_decay, nature_exp_decay, \n",
    "                                          staire_nature_exp_decay])\n",
    "        elr_lst.append(elr)\n",
    "        selr_lst.append(selr)\n",
    "        nelr_lst.append(nelr)\n",
    "        snelr_lst.append(snelr)\n",
    "        step_now = sess.run(global_step_op)\n",
    "    \n",
    "x = range(step_max)\n",
    "plt.plot(x, elr_lst, 'r-')\n",
    "plt.plot(x, selr_lst, 'g-')\n",
    "plt.plot(x, nelr_lst, 'r-', linewidth=3)\n",
    "plt.plot(x, snelr_lst, 'g-', linewidth=3)\n",
    "plt.ylim([0, learning_rate])\n",
    "plt.xlim([0, step_max])\n",
    "plt.xlabel('steps')\n",
    "plt.ylabel('learning rate')\n",
    "plt.show()"
   ]
  },
  {
   "cell_type": "markdown",
   "metadata": {
    "heading_collapsed": true
   },
   "source": [
    "## 在textCNN中使用指数递减学习率"
   ]
  },
  {
   "cell_type": "code",
   "execution_count": 4,
   "metadata": {
    "hidden": true
   },
   "outputs": [],
   "source": [
    "class TextCNN_layer():\n",
    "    def __init__(self, seq_length, class_num, ebd_weights, filter_num, filter_sizes = [2, 3, 4]):\n",
    "        seed_num = 7\n",
    "\n",
    "        self.seq_input = tf.placeholder(dtype=tf.int32, shape=[None, seq_length],\n",
    "                                        name='sequence_input')\n",
    "        self.sparse_label_input = tf.placeholder(dtype=tf.int32, shape=[None],\n",
    "                                                 name='sparse_label')\n",
    "        self.global_step = tf.Variable(0, trainable=False)\n",
    "        self.global_step_op = tf.assign(self.global_step, self.global_step+1)\n",
    "        # 使用动态指数递减学习率\n",
    "        self.learning_rate = tf.train.exponential_decay(0.0015, self.global_step, decay_steps=10, \n",
    "                                       decay_rate=0.9, staircase=True)\n",
    "\n",
    "        embedding_dim = ebd_weights.shape[1]\n",
    "        with tf.name_scope('embedding'):\n",
    "            self.W = tf.Variable(initial_value=ebd_weights, name='W')\n",
    "            self.embedding_layer = tf.nn.embedding_lookup(self.W, self.seq_input)\n",
    "            # batch * seq_len * emb_dim * in_channel(1)\n",
    "            self.embedding_layer_expand = tf.expand_dims(self.embedding_layer, axis=-1)\n",
    "\n",
    "        pool_layers = []\n",
    "        for i, filter_size in enumerate(filter_sizes):\n",
    "            with tf.name_scope('conv-maxpool-%s' % i):\n",
    "                conv = tf.layers.conv2d(self.embedding_layer_expand, filter_num, [filter_size, embedding_dim],\n",
    "                                kernel_initializer=tf.truncated_normal_initializer(stddev=0.1, seed=seed_num),\n",
    "                                bias_initializer=tf.constant_initializer(0.1),\n",
    "                                activation='relu', padding='VALID')\n",
    "                pool = tf.layers.max_pooling2d(conv, pool_size=[seq_length-filter_size+1, 1], \n",
    "                                               strides=[1, 1], padding='VALID')\n",
    "                pool_layers.append(pool)\n",
    "        \n",
    "        all_dim = len(filter_sizes) * filter_num\n",
    "        self.pool_flatten = tf.reshape(tf.concat(pool_layers, -1), shape=[-1, all_dim])\n",
    "        \n",
    "        with tf.name_scope('output'):\n",
    "            self.logits = tf.layers.dense(self.pool_flatten, class_num, \n",
    "                                          kernel_initializer=tf.truncated_normal_initializer(seed=seed_num), \n",
    "                                          bias_initializer=tf.constant_initializer(0.1))\n",
    "            self.prediction = tf.argmax(self.logits, axis=-1, output_type=tf.int32, name='prediction')\n",
    "\n",
    "        with tf.name_scope('loss'):\n",
    "            losses = tf.nn.sparse_softmax_cross_entropy_with_logits(labels=self.sparse_label_input, logits=self.logits)\n",
    "            self.loss_sum = tf.reduce_sum(losses)\n",
    "            self.loss = tf.reduce_mean(losses, name='loss')\n",
    "\n",
    "        with tf.name_scope('accuracy'):\n",
    "            correct_predction = tf.equal(self.prediction, self.sparse_label_input)\n",
    "            self.correct_num = tf.reduce_sum(tf.cast(correct_predction, tf.float16), name='accuracy')\n",
    "            self.accuracy = tf.reduce_mean(tf.cast(correct_predction, tf.float16), name='accuracy')\n",
    "        \n",
    "        optimizer = tf.train.AdamOptimizer(learning_rate=self.learning_rate)\n",
    "        gs_vs = optimizer.compute_gradients(self.loss)\n",
    "        self.train_op = optimizer.apply_gradients(gs_vs)"
   ]
  },
  {
   "cell_type": "markdown",
   "metadata": {},
   "source": [
    "## 开始训练，注意观察学习率"
   ]
  },
  {
   "cell_type": "code",
   "execution_count": 5,
   "metadata": {},
   "outputs": [
    {
     "name": "stdout",
     "output_type": "stream",
     "text": [
      "Epoch 10, train loss 5.5135, acc 0.6188; test loss 6.3615, acc 0.5951. lr: 0.001350\n",
      "Epoch 20, train loss 2.4943, acc 0.7309; test loss 3.6131, acc 0.6704. lr: 0.001215\n",
      "Epoch 30, train loss 0.8683, acc 0.8510; test loss 2.0620, acc 0.7397. lr: 0.001093\n",
      "Epoch 40, train loss 0.2913, acc 0.9330; test loss 1.4953, acc 0.7735. lr: 0.000984\n",
      "Epoch 50, train loss 0.0969, acc 0.9789; test loss 1.2828, acc 0.7850. lr: 0.000886\n",
      "Epoch 60, train loss 0.0464, acc 0.9899; test loss 1.2625, acc 0.7812. lr: 0.000797\n",
      "Epoch 70, train loss 0.0245, acc 0.9960; test loss 1.2528, acc 0.7805. lr: 0.000717\n",
      "Epoch 80, train loss 0.0149, acc 0.9984; test loss 1.2479, acc 0.7790. lr: 0.000646\n",
      "Epoch 90, train loss 0.0101, acc 0.9992; test loss 1.2454, acc 0.7791. lr: 0.000581\n",
      "Epoch 100, train loss 0.0074, acc 0.9996; test loss 1.2438, acc 0.7798. lr: 0.000523\n"
     ]
    }
   ],
   "source": [
    "train_x, train_y = train_data['data'], [1 if i == 'pos' else 0 for i in train_data['label']]\n",
    "test_x, test_y = test_data['data'], [1 if i == 'pos' else 0 for i in test_data['label']]\n",
    "cnn_model = TextCNN_layer(seq_length=train_x.shape[1], class_num=2, ebd_weights=ebd_weights, filter_num=32)\n",
    "batch_size = 1000\n",
    "epoch_max = 100\n",
    "\n",
    "\n",
    "config = use_gpu_polite()\n",
    "with tf.Session(config=config) as sess:\n",
    "    sess.run(tf.global_variables_initializer())\n",
    "    epoch_now = sess.run(cnn_model.global_step)\n",
    "    \n",
    "    while epoch_now < epoch_max:\n",
    "        # 在训练集上按batch训练完所有，算作一个epoch\n",
    "        batch_num = train_x.shape[0] // batch_size\n",
    "        for i in range(batch_num+1):\n",
    "            s_i = i * batch_size\n",
    "            e_i = min((i+1)*batch_size, train_x.shape[0])\n",
    "            if s_i >= e_i:\n",
    "                continue\n",
    "            in_x, in_y = train_x[s_i: e_i, :], train_y[s_i: e_i]\n",
    "            feed_dict = {cnn_model.seq_input: in_x, cnn_model.sparse_label_input: in_y}\n",
    "            sess.run(cnn_model.train_op, feed_dict)\n",
    "\n",
    "        epoch_now = sess.run(cnn_model.global_step_op)  # 跑完了一个epoch，epoch+1\n",
    "        \n",
    "        if epoch_now % 10 == 0:  # 每10轮观察一下训练集测试集loss 和 acc\n",
    "            # 训练集总的损失和acc也要分步测，否则内存不够\n",
    "            batch_num = train_x.shape[0] // batch_size\n",
    "            train_total_loss = 0\n",
    "            train_total_correct = 0\n",
    "            for i in range(batch_num+1):\n",
    "                s_i = i * batch_size\n",
    "                e_i = min((i+1)*batch_size, train_x.shape[0])\n",
    "                if s_i >= e_i:\n",
    "                    continue\n",
    "                in_x, in_y = train_x[s_i: e_i, :], train_y[s_i: e_i]\n",
    "                feed_dict = {cnn_model.seq_input: in_x, cnn_model.sparse_label_input: in_y}\n",
    "\n",
    "                train_loss_one, train_correct_one = sess.run([cnn_model.loss_sum, cnn_model.correct_num], feed_dict)\n",
    "                train_total_loss += train_loss_one\n",
    "                train_total_correct += train_correct_one\n",
    "            train_loss = train_total_loss / train_x.shape[0]\n",
    "            train_acc = train_total_correct / train_x.shape[0]\n",
    "\n",
    "            # 测试集的损失和acc\n",
    "            batch_num = test_x.shape[0] // batch_size\n",
    "            test_total_loss = 0\n",
    "            test_total_correct = 0\n",
    "            for i in range(batch_num+1):\n",
    "                s_i = i * batch_size\n",
    "                e_i = min((i+1)*batch_size, test_x.shape[0])\n",
    "                if s_i >= e_i:\n",
    "                    continue\n",
    "                in_x, in_y = test_x[s_i: e_i, :], test_y[s_i: e_i]\n",
    "                feed_dict = {cnn_model.seq_input: in_x, cnn_model.sparse_label_input: in_y}\n",
    "\n",
    "                test_loss_one, test_correct_one = sess.run([cnn_model.loss_sum, cnn_model.correct_num], feed_dict)\n",
    "                test_total_loss += test_loss_one\n",
    "                test_total_correct += test_correct_one\n",
    "            test_loss = test_total_loss / test_x.shape[0]\n",
    "            test_acc = test_total_correct / test_x.shape[0]\n",
    "            \n",
    "            lr_now = sess.run(cnn_model.learning_rate)\n",
    "            print('Epoch %d, train loss %.4f, acc %.4f; test loss %.4f, acc %.4f. lr: %f' % \n",
    "                  (epoch_now, train_loss, train_acc, test_loss, test_acc, lr_now))\n"
   ]
  },
  {
   "cell_type": "markdown",
   "metadata": {},
   "source": [
    "**先观察了一下两种指数下降学习率的两种方法，可以设置是否阶梯形式。还有其他类型的动态衰减学习率：多项式、倒数、余弦。自行查阅**  \n",
    "**然后在textcnn模型中使用指数衰减学习率，观察训练效果，和之前的进行比较。**"
   ]
  }
 ],
 "metadata": {
  "kernelspec": {
   "display_name": "python tf2",
   "language": "python",
   "name": "tf2"
  },
  "language_info": {
   "codemirror_mode": {
    "name": "ipython",
    "version": 3
   },
   "file_extension": ".py",
   "mimetype": "text/x-python",
   "name": "python",
   "nbconvert_exporter": "python",
   "pygments_lexer": "ipython3",
   "version": "3.6.8"
  }
 },
 "nbformat": 4,
 "nbformat_minor": 2
}

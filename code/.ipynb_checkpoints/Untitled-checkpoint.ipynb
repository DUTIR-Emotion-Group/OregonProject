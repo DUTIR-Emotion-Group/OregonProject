{
 "cells": [
  {
   "cell_type": "code",
   "execution_count": 1,
   "metadata": {},
   "outputs": [
    {
     "name": "stderr",
     "output_type": "stream",
     "text": [
      "/home/dutir923/wujiaming/anaconda3/envs/tf2/lib/python3.6/site-packages/smart_open/ssh.py:34: UserWarning: paramiko missing, opening SSH/SCP/SFTP paths will be disabled.  `pip install paramiko` to suppress\n",
      "  warnings.warn('paramiko missing, opening SSH/SCP/SFTP paths will be disabled.  `pip install paramiko` to suppress')\n"
     ]
    },
    {
     "name": "stdout",
     "output_type": "stream",
     "text": [
      "(50000, 3)\n",
      "  label                                           sentence train_tag\n",
      "0   pos  Bromwell High is a cartoon comedy . It ran at ...     train\n",
      "1   pos  Homelessness ( or Houselessness as George Carl...     train\n",
      "2   pos  Brilliant over-acting by Lesley Ann Warren . B...     train\n",
      "3   pos  This is easily the most underrated film inn th...     train\n",
      "4   pos  This is not the typical Mel Brooks film . It w...     train\n"
     ]
    }
   ],
   "source": [
    "import pickle\n",
    "from gensim.models import word2vec\n",
    "\n",
    "\n",
    "with open('../data/imdb_data_3col.pkl', 'rb') as pickle_open:\n",
    "    df = pickle.load(pickle_open)\n",
    "print(df.shape)\n",
    "print(df.head())"
   ]
  },
  {
   "cell_type": "markdown",
   "metadata": {},
   "source": [
    "## 用gensim在语料上训练w2v词向量，并将模型和结果都保存在本地"
   ]
  },
  {
   "cell_type": "code",
   "execution_count": 2,
   "metadata": {},
   "outputs": [],
   "source": [
    "sentence_lst = df['sentence']\n",
    "sentence_seg_lst = [i.split(' ') for i in sentence_lst]   # 两层list，内层每个item是一个token\n",
    "model = word2vec.Word2Vec(sentences=sentence_seg_lst, size=50)    # model可以有很多参数设置，这里只设置50维，其余用默认的\n",
    "model.save('../model/2-W2V.50d.5iter.model')       #  将模型保存，方便之后提取继续训练\n",
    "model.wv.save_word2vec_format('../data/2-W2V.50d.txt')    #  将训练好的词向量保存成w2v的格式"
   ]
  },
  {
   "cell_type": "code",
   "execution_count": 4,
   "metadata": {},
   "outputs": [
    {
     "name": "stdout",
     "output_type": "stream",
     "text": [
      "Bromwell [-0.04241652 -0.08991037 -0.08139422  0.05417769  0.02832839 -0.08684023\n",
      "  0.01140659  0.05399471 -0.09209372 -0.01510642  0.01587607  0.14216176\n",
      " -0.06547042 -0.0554284  -0.0163717   0.03524233  0.02584048  0.06117444\n",
      " -0.0052956  -0.0536235   0.04665697 -0.02699872 -0.13688478 -0.18295456\n",
      "  0.0794782  -0.00336991 -0.03571728 -0.01050966 -0.17319247 -0.11765704\n",
      " -0.09635987  0.00833075  0.0959302  -0.10545462  0.03334778 -0.03456187\n",
      "  0.01026792 -0.02337299 -0.05224903 -0.00870258 -0.05416248  0.05288383\n",
      " -0.05985672 -0.06098951 -0.05689717  0.00089093  0.14615919  0.03297159\n",
      " -0.02097048 -0.06649517]\n",
      "High [-1.2016855  -0.65608203 -0.87494004  1.2076306  -1.2852937  -0.19795202\n",
      "  0.36740816  0.7387761  -1.5522286  -0.24817346  0.63445026  2.9788165\n",
      "  0.5382468  -0.99878716 -1.3300232  -0.5283916   1.5683031   1.4260843\n",
      "  0.93578446 -2.367873   -1.5318394   0.0381434  -2.1932979  -0.4204004\n",
      "  1.7113428   0.60409826 -0.89087075  0.5897368  -1.4802052  -0.39697105\n",
      "  0.36300826  1.6557542   2.0404418  -1.9927341   1.0837265  -1.6920351\n",
      " -0.99197274  0.32602927  0.16899396  1.144836   -1.1912196   1.4621559\n",
      " -1.4399276  -0.38799444 -0.25920075  1.2477096   2.0263846   0.8372224\n",
      "  1.1773537  -2.4380443 ]\n",
      "is [ 0.51877433 -2.384586    1.2994012  -2.1315825   2.05428    -4.0412765\n",
      "  2.6868382  -3.3950174  -1.1201794  -1.6401242  -2.1595948   0.20330141\n",
      " -1.855512   -1.1581119  -1.4883844   1.1277417  -1.7201877  -1.0560788\n",
      " -5.42226    -0.163825   -1.3536826   0.22425495  1.6395575  -4.3855805\n",
      " -0.9932855  -2.2759297  -1.9051286  -4.431065    2.6122327   0.28385046\n",
      "  0.20426965 -0.18536727 -2.172385    1.170258   -0.68294996  3.466576\n",
      "  1.0207982  -0.97843117  1.970395    2.009256    0.08312606 -1.1157283\n",
      "  0.5134835   1.5289168   3.1170118  -0.60605204 -0.56623197 -2.6153085\n",
      "  1.9493144  -2.1555078 ]\n",
      "a [ 1.0837438  -2.4455764   2.1430297  -1.0849297  -3.0539124   1.1712677\n",
      " -0.02770845 -0.50301623 -1.5707282  -1.4768499  -0.54039085  2.349185\n",
      " -1.6780862  -0.32036093 -3.1181538   0.70470226 -1.6849914   1.9976608\n",
      "  3.9515536   1.5867202  -2.5670593   2.1950219   3.2200842   0.89534575\n",
      "  1.4370997   0.47820127  0.18174651 -4.5630107  -0.1162366  -3.2447975\n",
      " -2.974462   -0.03893267 -3.3033643  -0.4468936  -1.066628    2.0507176\n",
      "  3.8993838   1.0118765   0.3748802   1.6393448   0.26685354 -1.1868522\n",
      "  0.7260785   0.40306258 -1.9833124   1.3200904   4.4032545  -1.0597621\n",
      "  0.6245964   2.2546103 ]\n",
      "cartoon [ 0.32053024 -0.90028447  0.5901001  -0.3010319  -0.67130476  1.0578865\n",
      " -0.6438317  -2.5232356  -0.9946321   2.3721275   0.01507337  0.6039974\n",
      " -1.8636745   0.39573598 -1.1890283  -0.47019276  0.7310869  -0.7548114\n",
      " -0.63079906 -1.313212   -2.2472184  -0.25514838 -1.5268172  -2.0593586\n",
      "  1.1501572   0.49525273 -0.8501103  -0.04796236  2.409248    0.02471233\n",
      "  1.1783234   0.33450726  0.16102768  0.55464196  1.2099215  -1.6147887\n",
      "  1.1859767  -1.2517905  -0.05645235 -0.24464603  2.6812637   0.8235203\n",
      " -0.22442862 -0.72772175  0.5323899  -0.85818565  1.6922201   0.9644818\n",
      "  0.94901943 -0.53335685]\n",
      "comedy [-2.1433954  -1.7636482   1.8166698  -2.024942   -1.4914235   1.1870339\n",
      " -2.0081089  -3.7138746  -0.8294265   1.617131   -0.6888966  -1.0460086\n",
      " -3.508084   -1.4169796  -2.398147   -1.457488    0.1584404   1.1699713\n",
      "  0.00598621  0.05832972 -2.8087332   0.46742976 -0.8278228  -5.4634333\n",
      " -0.37695715  0.6361398  -0.77286613 -2.2011642   3.2662592  -0.6507596\n",
      "  0.28133702 -1.9370543  -0.09449017 -0.0382743   1.3344635  -2.1900456\n",
      "  1.9770291   1.8734641   0.05676757 -0.40817478  3.4388146   1.4533961\n",
      "  1.8700714  -1.9087322  -1.1850238  -0.67912483  1.4817151   1.7686158\n",
      " -0.5922885  -0.9983485 ]\n"
     ]
    },
    {
     "name": "stderr",
     "output_type": "stream",
     "text": [
      "/home/dutir923/wujiaming/anaconda3/envs/tf2/lib/python3.6/site-packages/ipykernel_launcher.py:5: DeprecationWarning: Call to deprecated `__getitem__` (Method will be removed in 4.0.0, use self.wv.__getitem__() instead).\n",
      "  \"\"\"\n"
     ]
    }
   ],
   "source": [
    "model = word2vec.Word2Vec.load('../model/2-W2V.50d.5iter.model')  # 载入模型\n",
    "\n",
    "count = 0\n",
    "for i in model.wv.vocab:    # 看一下前几个词以及对应的词向量\n",
    "    print(i, model[i])\n",
    "    count += 1\n",
    "    if count > 5:\n",
    "        break"
   ]
  },
  {
   "cell_type": "code",
   "execution_count": null,
   "metadata": {},
   "outputs": [],
   "source": []
  }
 ],
 "metadata": {
  "kernelspec": {
   "display_name": "python tf2",
   "language": "python",
   "name": "tf2"
  },
  "language_info": {
   "codemirror_mode": {
    "name": "ipython",
    "version": 3
   },
   "file_extension": ".py",
   "mimetype": "text/x-python",
   "name": "python",
   "nbconvert_exporter": "python",
   "pygments_lexer": "ipython3",
   "version": "3.6.8"
  }
 },
 "nbformat": 4,
 "nbformat_minor": 2
}
